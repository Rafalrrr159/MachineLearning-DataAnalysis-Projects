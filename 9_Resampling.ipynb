{
 "cells": [
  {
   "cell_type": "markdown",
   "id": "48000154-0343-4a7b-9bc6-b94a403219f9",
   "metadata": {},
   "source": [
    "### Zadanie 5a"
   ]
  },
  {
   "cell_type": "code",
   "execution_count": 1,
   "id": "604bc45d-b85c-4b04-8792-4bc93468b45f",
   "metadata": {},
   "outputs": [
    {
     "name": "stdout",
     "output_type": "stream",
     "text": [
      "Optimization terminated successfully.\n",
      "         Current function value: 0.078948\n",
      "         Iterations 10\n"
     ]
    },
    {
     "data": {
      "text/html": [
       "<div>\n",
       "<style scoped>\n",
       "    .dataframe tbody tr th:only-of-type {\n",
       "        vertical-align: middle;\n",
       "    }\n",
       "\n",
       "    .dataframe tbody tr th {\n",
       "        vertical-align: top;\n",
       "    }\n",
       "\n",
       "    .dataframe thead th {\n",
       "        text-align: right;\n",
       "    }\n",
       "</style>\n",
       "<table border=\"1\" class=\"dataframe\">\n",
       "  <thead>\n",
       "    <tr style=\"text-align: right;\">\n",
       "      <th></th>\n",
       "      <th>coef</th>\n",
       "      <th>std err</th>\n",
       "      <th>z</th>\n",
       "      <th>P&gt;|z|</th>\n",
       "    </tr>\n",
       "  </thead>\n",
       "  <tbody>\n",
       "    <tr>\n",
       "      <th>intercept</th>\n",
       "      <td>-11.540500</td>\n",
       "      <td>0.435000</td>\n",
       "      <td>-26.544</td>\n",
       "      <td>0.0</td>\n",
       "    </tr>\n",
       "    <tr>\n",
       "      <th>income</th>\n",
       "      <td>0.000021</td>\n",
       "      <td>0.000005</td>\n",
       "      <td>4.174</td>\n",
       "      <td>0.0</td>\n",
       "    </tr>\n",
       "    <tr>\n",
       "      <th>balance</th>\n",
       "      <td>0.005600</td>\n",
       "      <td>0.000000</td>\n",
       "      <td>24.835</td>\n",
       "      <td>0.0</td>\n",
       "    </tr>\n",
       "  </tbody>\n",
       "</table>\n",
       "</div>"
      ],
      "text/plain": [
       "                coef   std err       z  P>|z|\n",
       "intercept -11.540500  0.435000 -26.544    0.0\n",
       "income      0.000021  0.000005   4.174    0.0\n",
       "balance     0.005600  0.000000  24.835    0.0"
      ]
     },
     "execution_count": 1,
     "metadata": {},
     "output_type": "execute_result"
    }
   ],
   "source": [
    "import statsmodels.api as sm\n",
    "from ISLP import load_data\n",
    "from ISLP.models import (ModelSpec as MS, summarize)\n",
    "\n",
    "data = load_data('Default')\n",
    "\n",
    "data['default'] = data['default'].map({'No': 0, 'Yes': 1})\n",
    "\n",
    "spec = MS(['income', 'balance'])\n",
    "X = spec.fit_transform(data)\n",
    "y = data['default']\n",
    "\n",
    "model = sm.Logit(y, X)\n",
    "result = model.fit()\n",
    "\n",
    "summarize(result)"
   ]
  },
  {
   "cell_type": "markdown",
   "id": "9eead8e6-d62d-483d-89ed-7e37c994a55d",
   "metadata": {},
   "source": [
    "### Zadanie 5b"
   ]
  },
  {
   "cell_type": "code",
   "execution_count": 2,
   "id": "8081e8dc-ae17-40fa-87ad-878da8ed8be6",
   "metadata": {},
   "outputs": [
    {
     "name": "stdout",
     "output_type": "stream",
     "text": [
      "Optimization terminated successfully.\n",
      "         Current function value: 0.078256\n",
      "         Iterations 10\n",
      "Błąd walidacyjny: 0.0267\n"
     ]
    }
   ],
   "source": [
    "from sklearn.model_selection import train_test_split\n",
    "import numpy as np\n",
    "\n",
    "X_train, X_val, y_train, y_val = train_test_split(X, y, test_size=0.3, random_state=42)\n",
    "\n",
    "model = sm.Logit(y_train, X_train)\n",
    "result = model.fit()\n",
    "\n",
    "summarize(result)\n",
    "\n",
    "y_pred_prob = result.predict(X_val)\n",
    "\n",
    "y_pred = np.where(y_pred_prob > 0.5, 1, 0)\n",
    "\n",
    "validation_error = np.mean(y_pred != y_val)\n",
    "print(f\"Błąd walidacyjny: {validation_error:.4f}\")"
   ]
  },
  {
   "cell_type": "code",
   "execution_count": 3,
   "id": "75e804b6-4a42-46ff-a778-f8645fedfc7f",
   "metadata": {},
   "outputs": [
    {
     "name": "stdout",
     "output_type": "stream",
     "text": [
      "Random_state = 2\n",
      "Optimization terminated successfully.\n",
      "         Current function value: 0.082411\n",
      "         Iterations 10\n",
      "Błąd walidacyjny: 0.0237\n"
     ]
    }
   ],
   "source": [
    "from sklearn.model_selection import train_test_split\n",
    "import numpy as np\n",
    "\n",
    "print(\"Random_state = 2\")\n",
    "X_train, X_val, y_train, y_val = train_test_split(X, y, test_size=0.3, random_state=2)\n",
    "\n",
    "model = sm.Logit(y_train, X_train)\n",
    "result = model.fit()\n",
    "\n",
    "summarize(result)\n",
    "\n",
    "y_pred_prob = result.predict(X_val)\n",
    "\n",
    "y_pred = np.where(y_pred_prob > 0.5, 1, 0)\n",
    "\n",
    "validation_error = np.mean(y_pred != y_val)\n",
    "print(f\"Błąd walidacyjny: {validation_error:.4f}\")"
   ]
  },
  {
   "cell_type": "markdown",
   "id": "1cdc3e98-b18b-4ae1-8c31-6090e898cc78",
   "metadata": {},
   "source": [
    "### Zadanie 5d"
   ]
  },
  {
   "cell_type": "code",
   "execution_count": 4,
   "id": "7373ea17-b4c6-4f72-954f-fa4da62a936c",
   "metadata": {},
   "outputs": [
    {
     "name": "stdout",
     "output_type": "stream",
     "text": [
      "Optimization terminated successfully.\n",
      "         Current function value: 0.078031\n",
      "         Iterations 10\n",
      "Błąd walidacyjny (z uwzględnieniem 'student'): 0.0267\n"
     ]
    }
   ],
   "source": [
    "data['student'] = data['student'].map({'Yes': 1, 'No': 0})\n",
    "\n",
    "spec = MS(['income', 'balance', 'student'])\n",
    "X = spec.fit_transform(data)\n",
    "y = data['default']\n",
    "\n",
    "X_train, X_val, y_train, y_val = train_test_split(X, y, test_size=0.3, random_state=42)\n",
    "\n",
    "model = sm.Logit(y_train, X_train)\n",
    "result = model.fit()\n",
    "\n",
    "summarize(result)\n",
    "\n",
    "y_pred_prob = result.predict(X_val)\n",
    "y_pred = np.where(y_pred_prob > 0.5, 1, 0)\n",
    "\n",
    "validation_error = np.mean(y_pred != y_val)\n",
    "print(f\"Błąd walidacyjny (z uwzględnieniem 'student'): {validation_error:.4f}\")"
   ]
  },
  {
   "cell_type": "markdown",
   "id": "47c428f6-3beb-4bc6-aac5-349b1bb6ceba",
   "metadata": {},
   "source": [
    "### Zadanie 8a"
   ]
  },
  {
   "cell_type": "code",
   "execution_count": 5,
   "id": "5e3bef2e-240a-4da1-b32d-6d0b9fb2203a",
   "metadata": {},
   "outputs": [],
   "source": [
    "rng = np.random.default_rng(1)\n",
    "x = rng.normal(size=100)\n",
    "y = x - 2 * x**2 + rng.normal(size=100)"
   ]
  },
  {
   "cell_type": "markdown",
   "id": "079b8149-607d-43d5-bd56-1f8e0a3f8fc1",
   "metadata": {},
   "source": [
    "### Zadanie 8b"
   ]
  },
  {
   "cell_type": "code",
   "execution_count": 6,
   "id": "9a8dd6ef-6333-46dc-ad0f-96d914de1db1",
   "metadata": {},
   "outputs": [
    {
     "data": {
      "image/png": "[encoded data removed]",
      "text/plain": [
       "<Figure size 800x600 with 1 Axes>"
      ]
     },
     "metadata": {},
     "output_type": "display_data"
    }
   ],
   "source": [
    "import matplotlib.pyplot as plt\n",
    "\n",
    "plt.figure(figsize=(8, 6))\n",
    "plt.scatter(x, y, color='blue', alpha=0.7)\n",
    "plt.xlabel(\"X\")\n",
    "plt.ylabel(\"Y\")\n",
    "plt.title(\"Wykres punktowy X względem Y\")\n",
    "plt.grid(True)\n",
    "plt.show()"
   ]
  },
  {
   "cell_type": "markdown",
   "id": "dcc9a043-2147-4e00-9c48-451c7d69855d",
   "metadata": {},
   "source": [
    "### Zadanie 8c"
   ]
  },
  {
   "cell_type": "code",
   "execution_count": 7,
   "id": "556bcaa9-0bd2-4692-b145-a66ee83ee6c7",
   "metadata": {},
   "outputs": [
    {
     "name": "stdout",
     "output_type": "stream",
     "text": [
      "Błąd LOOCV dla modelu stopnia 1: 6.6330\n",
      "Błąd LOOCV dla modelu stopnia 2: 1.1229\n",
      "Błąd LOOCV dla modelu stopnia 3: 1.3018\n",
      "Błąd LOOCV dla modelu stopnia 4: 1.3324\n"
     ]
    }
   ],
   "source": [
    "import pandas as pd\n",
    "from sklearn.model_selection import LeaveOneOut\n",
    "\n",
    "data = pd.DataFrame({'X': x, 'Y': y})\n",
    "\n",
    "def loocv_error(data, degree):\n",
    "    loo = LeaveOneOut()\n",
    "    X = data[['X']]\n",
    "    y = data['Y']\n",
    "    \n",
    "    X_poly = X.copy()\n",
    "    for d in range(2, degree + 1):\n",
    "        X_poly[f'X{d}'] = X['X']**d\n",
    "    X_poly = sm.add_constant(X_poly)\n",
    "    \n",
    "    errors = []\n",
    "    for train_index, test_index in loo.split(X_poly):\n",
    "        X_train, X_test = X_poly.iloc[train_index], X_poly.iloc[test_index]\n",
    "        y_train, y_test = y.iloc[train_index], y.iloc[test_index]\n",
    "\n",
    "        model = sm.OLS(y_train, X_train).fit()\n",
    "\n",
    "        y_pred = model.predict(X_test)\n",
    "        errors.append((y_test.values[0] - y_pred.values[0])**2)\n",
    "    \n",
    "    return np.mean(errors)\n",
    "\n",
    "errors = {}\n",
    "for degree in range(1, 5):\n",
    "    error = loocv_error(data, degree)\n",
    "    errors[f'Stopień {degree}'] = error\n",
    "    print(f\"Błąd LOOCV dla modelu stopnia {degree}: {error:.4f}\")"
   ]
  },
  {
   "cell_type": "markdown",
   "id": "ed5579b2-cf4a-449a-af84-68c22f9a6668",
   "metadata": {},
   "source": [
    "### Zadanie 8d"
   ]
  },
  {
   "cell_type": "code",
   "execution_count": 8,
   "id": "e04f8ca5-f890-48d5-9172-d6c6822082eb",
   "metadata": {},
   "outputs": [
    {
     "name": "stdout",
     "output_type": "stream",
     "text": [
      "Błąd LOOCV dla modelu stopnia 1: 6.6330\n",
      "Błąd LOOCV dla modelu stopnia 2: 1.1229\n",
      "Błąd LOOCV dla modelu stopnia 3: 1.3018\n",
      "Błąd LOOCV dla modelu stopnia 4: 1.3324\n"
     ]
    }
   ],
   "source": [
    "import pandas as pd\n",
    "from sklearn.model_selection import LeaveOneOut\n",
    "\n",
    "rng = np.random.default_rng(1)\n",
    "x = rng.normal(size=100)\n",
    "y = x - 2 * x**2 + rng.normal(size=100)\n",
    "\n",
    "data = pd.DataFrame({'X': x, 'Y': y})\n",
    "\n",
    "def loocv_error(data, degree):\n",
    "    loo = LeaveOneOut()\n",
    "    X = data[['X']]\n",
    "    y = data['Y']\n",
    "    \n",
    "    X_poly = X.copy()\n",
    "    for d in range(2, degree + 1):\n",
    "        X_poly[f'X{d}'] = X['X']**d\n",
    "    X_poly = sm.add_constant(X_poly)\n",
    "    \n",
    "    errors = []\n",
    "    for train_index, test_index in loo.split(X_poly):\n",
    "        X_train, X_test = X_poly.iloc[train_index], X_poly.iloc[test_index]\n",
    "        y_train, y_test = y.iloc[train_index], y.iloc[test_index]\n",
    "\n",
    "        model = sm.OLS(y_train, X_train).fit()\n",
    "\n",
    "        y_pred = model.predict(X_test)\n",
    "        errors.append((y_test.values[0] - y_pred.values[0])**2)\n",
    "    \n",
    "    return np.mean(errors)\n",
    "\n",
    "errors = {}\n",
    "for degree in range(1, 5):\n",
    "    error = loocv_error(data, degree)\n",
    "    errors[f'Stopień {degree}'] = error\n",
    "    print(f\"Błąd LOOCV dla modelu stopnia {degree}: {error:.4f}\")"
   ]
  },
  {
   "cell_type": "code",
   "execution_count": 9,
   "id": "12d96ff0-5c22-46df-a01c-5b5ebb2c602a",
   "metadata": {},
   "outputs": [
    {
     "name": "stdout",
     "output_type": "stream",
     "text": [
      "Błąd LOOCV dla modelu stopnia 1: 6.6330\n",
      "Błąd LOOCV dla modelu stopnia 2: 1.1229\n",
      "Błąd LOOCV dla modelu stopnia 3: 1.3018\n",
      "Błąd LOOCV dla modelu stopnia 4: 1.3324\n"
     ]
    }
   ],
   "source": [
    "import pandas as pd\n",
    "from sklearn.model_selection import LeaveOneOut\n",
    "\n",
    "rng = np.random.default_rng(1)\n",
    "x = rng.normal(size=100)\n",
    "y = x - 2 * x**2 + rng.normal(size=100)\n",
    "data = pd.DataFrame({'X': x, 'Y': y})\n",
    "\n",
    "def loocv_error(data, degree):\n",
    "    loo = LeaveOneOut()\n",
    "    \n",
    "    X_poly = pd.DataFrame()\n",
    "    for d in range(1, degree + 1):\n",
    "        X_poly[f'X{d}'] = data['X']**d\n",
    "    X_poly = sm.add_constant(X_poly)\n",
    "    y = data['Y']\n",
    "\n",
    "    errors = []\n",
    "    for train_index, test_index in loo.split(X_poly):\n",
    "        X_train, X_test = X_poly.iloc[train_index], X_poly.iloc[test_index]\n",
    "        y_train, y_test = y.iloc[train_index], y.iloc[test_index]\n",
    "\n",
    "        model = sm.OLS(y_train, X_train).fit()\n",
    "        y_pred = model.predict(X_test)\n",
    "        errors.append((y_test - y_pred)**2)\n",
    "\n",
    "    return np.mean(errors)\n",
    "\n",
    "errors = {}\n",
    "for degree in range(1, 5):\n",
    "    error = loocv_error(data, degree)\n",
    "    errors[f'Stopień {degree}'] = error\n",
    "    print(f\"Błąd LOOCV dla modelu stopnia {degree}: {error:.4f}\")"
   ]
  },
  {
   "cell_type": "markdown",
   "id": "01b7c6fa-e870-455b-ba6b-33f2481dd98a",
   "metadata": {},
   "source": [
    "### Zadanie 8f"
   ]
  },
  {
   "cell_type": "code",
   "execution_count": 10,
   "id": "10205517-e6f6-4196-947f-2618c0ecbf52",
   "metadata": {},
   "outputs": [
    {
     "name": "stdout",
     "output_type": "stream",
     "text": [
      "\n",
      "Model stopnia 1:\n",
      "         coef  std err      t  P>|t|\n",
      "const -1.4650    0.247 -5.937    0.0\n",
      "X      1.9494    0.289  6.752    0.0\n",
      "\n",
      "Model stopnia 2:\n",
      "         coef  std err       t  P>|t|\n",
      "const -0.0728    0.119  -0.611  0.543\n",
      "X      0.9663    0.126   7.647  0.000\n",
      "X2    -2.0047    0.091 -22.072  0.000\n",
      "\n",
      "Model stopnia 3:\n",
      "         coef  std err       t  P>|t|\n",
      "const -0.0572    0.120  -0.477  0.635\n",
      "X      1.1146    0.187   5.945  0.000\n",
      "X2    -2.0471    0.099 -20.673  0.000\n",
      "X3    -0.0643    0.060  -1.070  0.287\n",
      "\n",
      "Model stopnia 4:\n",
      "         coef  std err       t  P>|t|\n",
      "const  0.1008    0.136   0.743  0.460\n",
      "X      0.9050    0.205   4.423  0.000\n",
      "X2    -2.5059    0.221 -11.336  0.000\n",
      "X3     0.0338    0.073   0.466  0.642\n",
      "X4     0.1042    0.045   2.309  0.023\n"
     ]
    }
   ],
   "source": [
    "rng = np.random.default_rng(1)\n",
    "x = rng.normal(size=100)\n",
    "y = x - 2 * x**2 + rng.normal(size=100)\n",
    "data = pd.DataFrame({'X': x, 'Y': y})\n",
    "\n",
    "def summarize_model(data, degree):\n",
    "    X = data[['X']]\n",
    "    y = data['Y']\n",
    "    \n",
    "    X_poly = X.copy()\n",
    "    for d in range(2, degree + 1):\n",
    "        X_poly[f'X{d}'] = X['X']**d\n",
    "    X_poly = sm.add_constant(X_poly)\n",
    "    \n",
    "    model = sm.OLS(y, X_poly).fit()\n",
    "    print(f\"\\nModel stopnia {degree}:\")\n",
    "    print(summarize(model))\n",
    "\n",
    "for degree in range(1, 5):\n",
    "    summarize_model(data, degree)"
   ]
  },
  {
   "cell_type": "code",
   "execution_count": 11,
   "id": "14670af7-28b4-49f5-9c2f-2ca3966e3303",
   "metadata": {},
   "outputs": [
    {
     "name": "stdout",
     "output_type": "stream",
     "text": [
      "\n",
      "Model stopnia 1:\n",
      "         coef  std err      t  P>|t|\n",
      "const -1.4650    0.247 -5.937    0.0\n",
      "X1     1.9494    0.289  6.752    0.0\n",
      "\n",
      "Model stopnia 2:\n",
      "         coef  std err       t  P>|t|\n",
      "const -0.0728    0.119  -0.611  0.543\n",
      "X1     0.9663    0.126   7.647  0.000\n",
      "X2    -2.0047    0.091 -22.072  0.000\n",
      "\n",
      "Model stopnia 3:\n",
      "         coef  std err       t  P>|t|\n",
      "const -0.0572    0.120  -0.477  0.635\n",
      "X1     1.1146    0.187   5.945  0.000\n",
      "X2    -2.0471    0.099 -20.673  0.000\n",
      "X3    -0.0643    0.060  -1.070  0.287\n",
      "\n",
      "Model stopnia 4:\n",
      "         coef  std err       t  P>|t|\n",
      "const  0.1008    0.136   0.743  0.460\n",
      "X1     0.9050    0.205   4.423  0.000\n",
      "X2    -2.5059    0.221 -11.336  0.000\n",
      "X3     0.0338    0.073   0.466  0.642\n",
      "X4     0.1042    0.045   2.309  0.023\n"
     ]
    }
   ],
   "source": [
    "rng = np.random.default_rng(1)\n",
    "x = rng.normal(size=100)\n",
    "y = x - 2 * x**2 + rng.normal(size=100)\n",
    "\n",
    "data = pd.DataFrame({'X': x, 'Y': y})\n",
    "\n",
    "def summarize_model(data, degree):\n",
    "    X_poly = pd.DataFrame()\n",
    "    for d in range(1, degree + 1):\n",
    "        X_poly[f'X{d}'] = data['X']**d\n",
    "    X_poly = sm.add_constant(X_poly)\n",
    "    \n",
    "    model = sm.OLS(data['Y'], X_poly).fit()\n",
    "    print(f\"\\nModel stopnia {degree}:\")\n",
    "    print(summarize(model))\n",
    "\n",
    "for degree in range(1, 5):\n",
    "    summarize_model(data, degree)"
   ]
  },
  {
   "cell_type": "code",
   "execution_count": 12,
   "id": "3f5b42cc-abb7-489d-8b31-cfb5a20bf7f1",
   "metadata": {},
   "outputs": [
    {
     "name": "stdout",
     "output_type": "stream",
     "text": [
      "\n",
      "Model stopnia 1:\n",
      "         coef  std err      t  P>|t|\n",
      "const -1.4650    0.247 -5.937    0.0\n",
      "x1     1.9494    0.289  6.752    0.0\n",
      "\n",
      "Model stopnia 2:\n",
      "         coef  std err       t  P>|t|\n",
      "const -0.0728    0.119  -0.611  0.543\n",
      "x1     0.9663    0.126   7.647  0.000\n",
      "x2    -2.0047    0.091 -22.072  0.000\n",
      "\n",
      "Model stopnia 3:\n",
      "         coef  std err       t  P>|t|\n",
      "const -0.0572    0.120  -0.477  0.635\n",
      "x1     1.1146    0.187   5.945  0.000\n",
      "x2    -2.0471    0.099 -20.673  0.000\n",
      "x3    -0.0643    0.060  -1.070  0.287\n",
      "\n",
      "Model stopnia 4:\n",
      "         coef  std err       t  P>|t|\n",
      "const  0.1008    0.136   0.743  0.460\n",
      "x1     0.9050    0.205   4.423  0.000\n",
      "x2    -2.5059    0.221 -11.336  0.000\n",
      "x3     0.0338    0.073   0.466  0.642\n",
      "x4     0.1042    0.045   2.309  0.023\n"
     ]
    }
   ],
   "source": [
    "rng = np.random.default_rng(1)\n",
    "x = rng.normal(size=100)\n",
    "y = x - 2 * x**2 + rng.normal(size=100)\n",
    "\n",
    "def summarize_model(x, y, degree):\n",
    "    X_poly = np.column_stack([x**d for d in range(1, degree + 1)])\n",
    "    X_poly = sm.add_constant(X_poly)\n",
    "    \n",
    "    model = sm.OLS(y, X_poly).fit()\n",
    "    print(f\"\\nModel stopnia {degree}:\")\n",
    "    print(summarize(model))\n",
    "\n",
    "for degree in range(1, 5):\n",
    "    summarize_model(x, y, degree)"
   ]
  },
  {
   "cell_type": "code",
   "execution_count": 13,
   "id": "3f6f712c-5570-4846-997f-c051c99e696d",
   "metadata": {},
   "outputs": [
    {
     "name": "stdout",
     "output_type": "stream",
     "text": [
      "Błąd LOOCV dla modelu stopnia 1: 6.6330\n",
      "Błąd LOOCV dla modelu stopnia 2: 1.1229\n",
      "Błąd LOOCV dla modelu stopnia 3: 1.3018\n",
      "Błąd LOOCV dla modelu stopnia 4: 1.3324\n"
     ]
    }
   ],
   "source": [
    "from sklearn.model_selection import LeaveOneOut\n",
    "\n",
    "rng = np.random.default_rng(1)\n",
    "x = rng.normal(size=100)\n",
    "y = x - 2 * x**2 + rng.normal(size=100)\n",
    "\n",
    "def loocv_error(x, y, degree):\n",
    "    loo = LeaveOneOut()\n",
    "    \n",
    "    X_poly = np.column_stack([x**d for d in range(1, degree + 1)])\n",
    "    X_poly = sm.add_constant(X_poly)\n",
    "    \n",
    "    errors = []\n",
    "    for train_index, test_index in loo.split(X_poly):\n",
    "        X_train, X_test = X_poly[train_index], X_poly[test_index]\n",
    "        y_train, y_test = y[train_index], y[test_index]\n",
    "\n",
    "        model = sm.OLS(y_train, X_train).fit()\n",
    "        y_pred = model.predict(X_test)\n",
    "        errors.append((y_test - y_pred)**2)\n",
    "\n",
    "    return np.mean(errors)\n",
    "\n",
    "errors = {}\n",
    "for degree in range(1, 5):\n",
    "    error = loocv_error(x, y, degree)\n",
    "    errors[f'Stopień {degree}'] = error\n",
    "    print(f\"Błąd LOOCV dla modelu stopnia {degree}: {error:.4f}\")"
   ]
  }
 ],
 "metadata": {
  "kernelspec": {
   "display_name": "Python 3 (ipykernel)",
   "language": "python",
   "name": "python3"
  },
  "language_info": {
   "codemirror_mode": {
    "name": "ipython",
    "version": 3
   },
   "file_extension": ".py",
   "mimetype": "text/x-python",
   "name": "python",
   "nbconvert_exporter": "python",
   "pygments_lexer": "ipython3",
   "version": "3.11.7"
  }
 },
 "nbformat": 4,
 "nbformat_minor": 5
}
